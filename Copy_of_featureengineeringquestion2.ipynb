{
  "nbformat": 4,
  "nbformat_minor": 0,
  "metadata": {
    "colab": {
      "provenance": []
    },
    "kernelspec": {
      "name": "python3",
      "display_name": "Python 3"
    },
    "language_info": {
      "name": "python"
    }
  },
  "cells": [
    {
      "cell_type": "code",
      "execution_count": null,
      "metadata": {
        "id": "N7wtJ-wbQ6Jj",
        "outputId": "53f37127-74e9-47d8-c2b0-b3ceeed37fcc",
        "colab": {
          "base_uri": "https://localhost:8080/"
        }
      },
      "outputs": [
        {
          "output_type": "stream",
          "name": "stdout",
          "text": [
            "vector 1: [2.3 4.5 6.1 8.4 7.8]\n",
            "vector 2: [1.5 2.8 3.9 5.  4.6]\n",
            "covariance between the vectors: 2.8248\n"
          ]
        }
      ],
      "source": [
        "import numpy as np\n",
        "\n",
        "vec1=np.array([2.3, 4.5, 6.1, 8.4, 7.8])\n",
        "vec2=np.array([1.5, 2.8, 3.9, 5.0, 4.6])\n",
        "covar=np.cov(vec1, vec2, bias=True)[0, 1]\n",
        "print(\"vector 1:\", vec1)\n",
        "print(\"vector 2:\", vec2)\n",
        "print(\"covariance between the vectors:\", covar)\n"
      ]
    }
  ]
}